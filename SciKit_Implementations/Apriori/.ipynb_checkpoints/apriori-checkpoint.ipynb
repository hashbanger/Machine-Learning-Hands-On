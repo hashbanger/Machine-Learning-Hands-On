{
 "cells": [
  {
   "cell_type": "markdown",
   "metadata": {},
   "source": [
    "# The Apriori Algorithm"
   ]
  },
  {
   "cell_type": "markdown",
   "metadata": {},
   "source": [
    "### The Imports"
   ]
  },
  {
   "cell_type": "code",
   "execution_count": 46,
   "metadata": {},
   "outputs": [],
   "source": [
    "#implementing Apriori\n",
    "import pandas as pd\n",
    "import numpy as np\n",
    "import matplotlib.pyplot as plt"
   ]
  },
  {
   "cell_type": "code",
   "execution_count": 34,
   "metadata": {},
   "outputs": [],
   "source": [
    "dataset = pd.read_csv(\"Market_Basket_Optimisation.csv\", header = None)\n",
    "transactions = []\n",
    "for i in range(0, 7501):\n",
    "    transactions.append([str(dataset.values[i, j]) for j in range(0,20)])"
   ]
  },
  {
   "cell_type": "code",
   "execution_count": 35,
   "metadata": {},
   "outputs": [],
   "source": [
    "#Training the Apriori Model \n",
    "from apyori import apriori\n",
    "rules = apriori(transactions, min_support = 0.003, min_confidence = 0.2, min_lift = 3, min_length= 2)"
   ]
  },
  {
   "cell_type": "code",
   "execution_count": 36,
   "metadata": {},
   "outputs": [],
   "source": [
    "#Visualising Results\n",
    "results = list(rules)"
   ]
  },
  {
   "cell_type": "code",
   "execution_count": 45,
   "metadata": {},
   "outputs": [
    {
     "name": "stdout",
     "output_type": "stream",
     "text": [
      "Frozenset:  frozenset({'escalope', 'mushroom cream sauce'})\n",
      "Support:  0.004532728969470737\n",
      "Confidence:  0.29059829059829057\n",
      "Lift:  4.84395061728395\n",
      "\n",
      "Frozenset:  frozenset({'escalope', 'pasta'})\n",
      "Support:  0.004532728969470737\n",
      "Confidence:  0.29059829059829057\n",
      "Lift:  4.84395061728395\n",
      "\n",
      "Frozenset:  frozenset({'honey', 'fromage blanc'})\n",
      "Support:  0.004532728969470737\n",
      "Confidence:  0.29059829059829057\n",
      "Lift:  4.84395061728395\n",
      "\n",
      "Frozenset:  frozenset({'ground beef', 'herb & pepper'})\n",
      "Support:  0.004532728969470737\n",
      "Confidence:  0.29059829059829057\n",
      "Lift:  4.84395061728395\n",
      "\n",
      "Frozenset:  frozenset({'tomato sauce', 'ground beef'})\n",
      "Support:  0.004532728969470737\n",
      "Confidence:  0.29059829059829057\n",
      "Lift:  4.84395061728395\n",
      "\n",
      "Frozenset:  frozenset({'light cream', 'olive oil'})\n",
      "Support:  0.004532728969470737\n",
      "Confidence:  0.29059829059829057\n",
      "Lift:  4.84395061728395\n",
      "\n",
      "Frozenset:  frozenset({'whole wheat pasta', 'olive oil'})\n",
      "Support:  0.004532728969470737\n",
      "Confidence:  0.29059829059829057\n",
      "Lift:  4.84395061728395\n",
      "\n",
      "Frozenset:  frozenset({'pasta', 'shrimp'})\n",
      "Support:  0.004532728969470737\n",
      "Confidence:  0.29059829059829057\n",
      "Lift:  4.84395061728395\n",
      "\n",
      "Frozenset:  frozenset({'spaghetti', 'milk', 'avocado'})\n",
      "Support:  0.004532728969470737\n",
      "Confidence:  0.29059829059829057\n",
      "Lift:  4.84395061728395\n",
      "\n"
     ]
    }
   ],
   "source": [
    "for i in range(1,10):\n",
    "    print('Frozenset: ',results[i][0])\n",
    "    print('Support: ',results[0][1])\n",
    "    print('Confidence: ',results[0][2][0][2])\n",
    "    print('Lift: ',results[0][2][0][3])\n",
    "    print()"
   ]
  },
  {
   "cell_type": "markdown",
   "metadata": {},
   "source": [
    "### de nada!"
   ]
  }
 ],
 "metadata": {
  "kernelspec": {
   "display_name": "Python 3",
   "language": "python",
   "name": "python3"
  },
  "language_info": {
   "codemirror_mode": {
    "name": "ipython",
    "version": 3
   },
   "file_extension": ".py",
   "mimetype": "text/x-python",
   "name": "python",
   "nbconvert_exporter": "python",
   "pygments_lexer": "ipython3",
   "version": "3.6.4"
  }
 },
 "nbformat": 4,
 "nbformat_minor": 2
}
